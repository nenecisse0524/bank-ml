{
  "nbformat": 4,
  "nbformat_minor": 0,
  "metadata": {
    "colab": {
      "provenance": [],
      "authorship_tag": "ABX9TyP7GRkGntkFzhPWBhnQPyYu",
      "include_colab_link": true
    },
    "kernelspec": {
      "name": "python3",
      "display_name": "Python 3"
    },
    "language_info": {
      "name": "python"
    }
  },
  "cells": [
    {
      "cell_type": "markdown",
      "metadata": {
        "id": "view-in-github",
        "colab_type": "text"
      },
      "source": [
        "<a href=\"https://colab.research.google.com/github/nenecisse0524/bank-ml/blob/main/PROJECT_4_COVID_19_MACHINE_LEARNING.ipynb\" target=\"_parent\"><img src=\"https://colab.research.google.com/assets/colab-badge.svg\" alt=\"Open In Colab\"/></a>"
      ]
    },
    {
      "cell_type": "markdown",
      "source": [
        "                                         PROBLEM STATEMENT\n",
        "    \n",
        "   The Data is related to the ICU visit Prediction during COVID 19. The HOSPITAL is SÍRIO-LIBANÊS in Brazil one of the countries most affected by the COVID 19 pandemic with more than 16 million confirmed cases and 454 429 confirmed deaths as of May 26, 2021.we willuse Machine Learning ML to help reduce the strain on hospital's ICU beds, where the objective is to develop a ML model to predict if a patient of a confirmed COVID-19 case will require admission to the ICU."
      ],
      "metadata": {
        "id": "JxfhVrJ5A-Iu"
      }
    },
    {
      "cell_type": "markdown",
      "source": [
        "In this assignment, you are challenged to perform a full lifecycle ML model development according to the objective of the dataset, which includes the following elements:\n",
        "\n",
        "Conduct EDA (Exploratory Data Analysis) to gain an understanding of the Data\n",
        "Preprocess the Data to prepare it for the ML Model\n",
        "Develop a few candidate ML models and pick the most promising one. Evaluate it based on a variety of metrics as well as analysing it’s performance (does it overtrain, can we improve it by changing our data preprocessing etc.)\n",
        "Deliverables:\n",
        "Upload your code to a github repository as a Jupyter Notebook. Use the commit system to update your progress whenever you are working on the progress (rather than just upload the file at the end). Ensure you have a readme that explains what you are doing.\n",
        "Executive Presentation: Prepare a presentation for the board of executives where you explain why your model can help save lives, why the hospital should start using it and present it’s performance as well as trends in the data you discovered during EDA.\n",
        "Research Report: Write a paper with up to 2000 words (this can be less as long as the important information is included) where you present your methods and finding to an expert audience. Your paper should roughly follow the structure:\n",
        "Introduction (why are we analysing the data/What is the problem)\n",
        "Data Description (describe the data you are working with in detail)\n",
        "Methods (what methods are you using for your research)\n",
        "Machine Learning model development (what decisions did you make, why?)\n",
        "Performance analysis\n",
        "Conclusion"
      ],
      "metadata": {
        "id": "7bHhAvAUFhbF"
      }
    },
    {
      "cell_type": "markdown",
      "source": [
        "Let's start by importing all the packages we will need.\n",
        "pandas is for data analysis\n",
        "Matplotlib is for visualisation\n",
        "Seaborn is for some advance data analysis tolls\n",
        "numpy is for numerical\n",
        "sklearn is for linear regression"
      ],
      "metadata": {
        "id": "wSnM1OG-Iz2_"
      }
    },
    {
      "cell_type": "code",
      "execution_count": 1,
      "metadata": {
        "id": "uGHgG0eFAxBj"
      },
      "outputs": [],
      "source": [
        "import pandas as pd\n",
        "import numpy as np\n",
        "import matplotlib.pyplot as plt\n",
        "import seaborn as sns\n",
        "import statsmodels.api as sm\n",
        "import sklearn as sl\n",
        "from sklearn.model_selection import train_test_split\n",
        "from sklearn.linear_model import LogisticRegression\n",
        "from sklearn.metrics import accuracy_score,confusion_matrix,classification_report\n",
        "from sklearn.preprocessing import LabelEncoder\n",
        "from sklearn.preprocessing import StandardScaler\n",
        "import warnings\n",
        "warnings.filterwarnings('ignore')"
      ]
    }
  ]
}